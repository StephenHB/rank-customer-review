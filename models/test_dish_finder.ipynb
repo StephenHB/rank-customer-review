{
 "cells": [
  {
   "cell_type": "code",
   "execution_count": 1,
   "metadata": {},
   "outputs": [],
   "source": [
    "from spacy_dish_name import *\n",
    "import pandas as pd"
   ]
  },
  {
   "cell_type": "code",
   "execution_count": 2,
   "metadata": {},
   "outputs": [],
   "source": [
    "IS_TEST = True"
   ]
  },
  {
   "cell_type": "code",
   "execution_count": 3,
   "metadata": {},
   "outputs": [],
   "source": [
    "file_path = '/Users/stephenzhang/Downloads/yelp.csv'\n",
    "df = pd.read_csv(file_path)\n",
    "if IS_TEST:\n",
    "    sampled_business_ids = df['business_id'].sample(n=3, random_state=123).tolist()\n",
    "    df = df[df['business_id'].isin(sampled_business_ids)]"
   ]
  },
  {
   "cell_type": "code",
   "execution_count": 4,
   "metadata": {},
   "outputs": [],
   "source": [
    "df['text_clean'] = df['text'].apply(clean_text)"
   ]
  },
  {
   "cell_type": "code",
   "execution_count": 5,
   "metadata": {},
   "outputs": [],
   "source": [
    "ACTION_VERBS = get_action_verbs(df, 'text_clean', 20)\n",
    "MENUE_ITEMS = get_menu_items(df, 'text_clean', 20)"
   ]
  },
  {
   "cell_type": "code",
   "execution_count": null,
   "metadata": {},
   "outputs": [],
   "source": [
    "\n",
    "def apply_spacy_to_df(\n",
    "    df, action_verbs, menu_items, filter_validate_menu=False, min_freq=2\n",
    "):\n",
    "    # Extract raw dishes\n",
    "    df[\"dishes_raw\"] = df[\"text_clean\"].apply(\n",
    "        lambda text: extract_dishes_spacy(text, action_verbs)\n",
    "    )\n",
    "\n",
    "    # Lemmatize the extracted dishes\n",
    "    df[\"dishes_lemmatized\"] = df[\"dishes_raw\"].apply(\n",
    "        lambda dishes: [lemmatize_dish(dish) for dish in dishes]\n",
    "    )\n",
    "    # Filter dishes based on frequency\n",
    "    all_texts = df[\"text_clean\"].tolist()\n",
    "    filtered_dishes = filter_dishes_spacy(all_texts, action_verbs, min_freq)\n",
    "\n",
    "    # Add filtered dishes to the DataFrame\n",
    "    df[\"filtered_dishes\"] = df[\"dishes_lemmatized\"].apply(\n",
    "        lambda dishes: [dish for dish in dishes if dish in filtered_dishes]\n",
    "    )\n",
    "\n",
    "    # Optionally validate dishes against a menu\n",
    "    if filter_validate_menu:\n",
    "        df[\"valid_dishes\"] = df[\"filtered_dishes\"].apply(\n",
    "            lambda dishes: [dish for dish in dishes if dish in menu_items]\n",
    "        )\n",
    "\n",
    "    return df"
   ]
  },
  {
   "cell_type": "code",
   "execution_count": 11,
   "metadata": {},
   "outputs": [],
   "source": [
    "test_df = apply_spacy_to_df(df, ACTION_VERBS, MENUE_ITEMS)"
   ]
  },
  {
   "cell_type": "code",
   "execution_count": null,
   "metadata": {},
   "outputs": [],
   "source": []
  }
 ],
 "metadata": {
  "kernelspec": {
   "display_name": "ner_environment",
   "language": "python",
   "name": "python3"
  },
  "language_info": {
   "codemirror_mode": {
    "name": "ipython",
    "version": 3
   },
   "file_extension": ".py",
   "mimetype": "text/x-python",
   "name": "python",
   "nbconvert_exporter": "python",
   "pygments_lexer": "ipython3",
   "version": "3.10.16"
  }
 },
 "nbformat": 4,
 "nbformat_minor": 2
}
